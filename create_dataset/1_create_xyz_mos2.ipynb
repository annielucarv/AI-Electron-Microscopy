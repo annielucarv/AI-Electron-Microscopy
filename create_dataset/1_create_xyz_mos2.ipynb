{
 "cells": [
  {
   "cell_type": "code",
   "execution_count": 1,
   "id": "a6ec0a43",
   "metadata": {},
   "outputs": [],
   "source": [
    "import ase\n",
    "from ase.io import read\n",
    "from ase import build\n",
    "from ase.visualize import view\n",
    "import numpy as np\n",
    "from atoms_mod import orthogonalize_cell, write_xyz"
   ]
  },
  {
   "cell_type": "markdown",
   "id": "7801840b",
   "metadata": {},
   "source": [
    "### Criando supercélula de MoS2"
   ]
  },
  {
   "cell_type": "code",
   "execution_count": 2,
   "id": "2d2ab25f",
   "metadata": {},
   "outputs": [],
   "source": [
    "atoms = ase.build.mx2(vacuum=2)\n",
    "\n",
    "atoms = orthogonalize_cell(atoms)\n",
    "atoms *= (40, 20, 1)"
   ]
  },
  {
   "cell_type": "code",
   "execution_count": 3,
   "id": "9455a6b8",
   "metadata": {},
   "outputs": [],
   "source": [
    "mos2 = atoms.copy()"
   ]
  },
  {
   "cell_type": "code",
   "execution_count": 4,
   "id": "de70fe4c",
   "metadata": {},
   "outputs": [
    {
     "data": {
      "text/plain": [
       "<Popen: returncode: None args: ['/home/anamendonca/miniconda3/envs/abtem_env...>"
      ]
     },
     "execution_count": 4,
     "metadata": {},
     "output_type": "execute_result"
    }
   ],
   "source": [
    "view(mos2)"
   ]
  },
  {
   "cell_type": "code",
   "execution_count": 4,
   "id": "452155aa",
   "metadata": {},
   "outputs": [
    {
     "data": {
      "text/plain": [
       "(4800, 320)"
      ]
     },
     "execution_count": 4,
     "metadata": {},
     "output_type": "execute_result"
    }
   ],
   "source": [
    "natoms = len(mos2)\n",
    "natoms_mos2 = len(mos2[mos2.numbers == 16])\n",
    "defect_percent = 10/100\n",
    "ndefects = int(np.rint(defect_percent*natoms_mos2))\n",
    "natoms,ndefects"
   ]
  },
  {
   "cell_type": "code",
   "execution_count": 6,
   "id": "6f648d5b",
   "metadata": {},
   "outputs": [],
   "source": [
    "mos2_defects = mos2.copy()\n",
    "# Get indices of sulfur atoms\n",
    "s_indices = [i for i, atom in enumerate(mos2) if atom.number == 16]\n",
    "\n",
    "# Randomly select defect indices from sulfur atoms\n",
    "defect_indices = np.random.choice(s_indices, size=min(ndefects, len(s_indices)), replace=False)\n",
    "\n",
    "\n",
    "# Sort indices in descending order to avoid shifting issues\n",
    "for i in sorted(defect_indices, reverse=True):\n",
    "    del mos2_defects[i]\n",
    "\n",
    "        "
   ]
  },
  {
   "cell_type": "code",
   "execution_count": null,
   "id": "27569a42",
   "metadata": {},
   "outputs": [],
   "source": [
    "mos2_defects.write('mos2_defects.poscar')"
   ]
  },
  {
   "cell_type": "code",
   "execution_count": 7,
   "id": "41aaef98",
   "metadata": {},
   "outputs": [],
   "source": [
    "defects = read('mos2_defects.poscar')"
   ]
  },
  {
   "cell_type": "code",
   "execution_count": 8,
   "id": "f39ada4f",
   "metadata": {},
   "outputs": [
    {
     "data": {
      "text/plain": [
       "<Popen: returncode: None args: ['/home/anamendonca/miniconda3/envs/abtem_env...>"
      ]
     },
     "execution_count": 8,
     "metadata": {},
     "output_type": "execute_result"
    },
    {
     "name": "stdout",
     "output_type": "stream",
     "text": [
      "Rendering with povray:\n",
      " | Writing files for image Mo1600S2880.pov ...\n",
      " | Deleting temporary file  Mo1600S2880.pov\n",
      " | Deleting temporary file  Mo1600S2880.ini\n",
      "Rendering with povray:\n",
      " | Writing files for image Mo1600S2880_z.pov ...\n",
      " | Deleting temporary file  Mo1600S2880_z.pov\n",
      " | Deleting temporary file  Mo1600S2880_z.ini\n",
      "Rendering with povray:\n",
      " | Writing files for image Mo1600S2880_y.pov ...\n",
      " | Deleting temporary file  Mo1600S2880_y.pov\n",
      " | Deleting temporary file  Mo1600S2880_y.ini\n"
     ]
    }
   ],
   "source": [
    "view(defects)"
   ]
  },
  {
   "cell_type": "code",
   "execution_count": null,
   "id": "e91255fc",
   "metadata": {},
   "outputs": [],
   "source": [
    "write_xyz(mos2_defects, 'mos2_computem.xyz')"
   ]
  },
  {
   "cell_type": "code",
   "execution_count": null,
   "id": "b6166622",
   "metadata": {},
   "outputs": [],
   "source": []
  }
 ],
 "metadata": {
  "kernelspec": {
   "display_name": "abtem_env",
   "language": "python",
   "name": "python3"
  },
  "language_info": {
   "codemirror_mode": {
    "name": "ipython",
    "version": 3
   },
   "file_extension": ".py",
   "mimetype": "text/x-python",
   "name": "python",
   "nbconvert_exporter": "python",
   "pygments_lexer": "ipython3",
   "version": "3.12.9"
  }
 },
 "nbformat": 4,
 "nbformat_minor": 5
}
