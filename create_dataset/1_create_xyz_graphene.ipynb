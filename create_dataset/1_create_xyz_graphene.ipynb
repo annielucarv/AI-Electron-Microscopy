{
 "cells": [
  {
   "cell_type": "code",
   "execution_count": 1,
   "id": "4286206a",
   "metadata": {},
   "outputs": [],
   "source": [
    "import ase\n",
    "from ase.io import read\n",
    "from ase import build\n",
    "from ase.visualize import view\n",
    "import numpy as np\n",
    "from atoms_mod import write_xyz"
   ]
  },
  {
   "cell_type": "markdown",
   "id": "babb9456",
   "metadata": {},
   "source": [
    "### Criando supercélula de grafeno"
   ]
  },
  {
   "cell_type": "code",
   "execution_count": 2,
   "id": "808a838e",
   "metadata": {},
   "outputs": [],
   "source": [
    "atoms = build.graphene_nanoribbon(n=40,m=40,vacuum=10.0,sheet=True)"
   ]
  },
  {
   "cell_type": "code",
   "execution_count": null,
   "id": "b3e4d634",
   "metadata": {},
   "outputs": [],
   "source": [
    "cell_array = atoms.cell.array\n",
    "positions_array = atoms.get_positions()\n",
    "\n",
    "new_cell_array = cell_array.copy()\n",
    "new_cell_array[2,2] = cell_array[1,1]\n",
    "new_cell_array[1,1] = cell_array[2,2]\n",
    "\n",
    "new_positions = positions_array.copy()\n",
    "new_positions[:,1] = positions_array[:,2]\n",
    "new_positions[:,2] = positions_array[:,1]\n",
    "\n",
    "graphene = atoms.copy()\n",
    "graphene.set_cell(new_cell_array)\n",
    "graphene.set_positions(new_positions)"
   ]
  },
  {
   "cell_type": "code",
   "execution_count": 4,
   "id": "de7e29f0",
   "metadata": {},
   "outputs": [
    {
     "data": {
      "text/plain": [
       "<Popen: returncode: None args: ['/home/anamendonca/miniconda3/envs/abtem_env...>"
      ]
     },
     "execution_count": 4,
     "metadata": {},
     "output_type": "execute_result"
    }
   ],
   "source": [
    "view(graphene)"
   ]
  },
  {
   "cell_type": "code",
   "execution_count": 5,
   "id": "b04e8b93",
   "metadata": {},
   "outputs": [
    {
     "data": {
      "text/plain": [
       "(3200, 320)"
      ]
     },
     "execution_count": 5,
     "metadata": {},
     "output_type": "execute_result"
    }
   ],
   "source": [
    "natoms = len(graphene)\n",
    "defect_percent = 10/100\n",
    "ndefects = int(np.rint(defect_percent*natoms))\n",
    "natoms,ndefects"
   ]
  },
  {
   "cell_type": "code",
   "execution_count": 6,
   "id": "f97d0610",
   "metadata": {},
   "outputs": [],
   "source": [
    "defects_index = np.random.choice(np.arange(natoms),size=ndefects,replace=False)"
   ]
  },
  {
   "cell_type": "code",
   "execution_count": 10,
   "id": "b4281ffd",
   "metadata": {},
   "outputs": [],
   "source": [
    "graphene_defects = graphene.copy()\n",
    "del graphene_defects[defects_index]"
   ]
  },
  {
   "cell_type": "code",
   "execution_count": 12,
   "id": "cc3f1036",
   "metadata": {},
   "outputs": [],
   "source": [
    "graphene_defects.write('graphene_defects.poscar')"
   ]
  },
  {
   "cell_type": "code",
   "execution_count": 7,
   "id": "ee195850",
   "metadata": {},
   "outputs": [],
   "source": [
    "defects = read('graphene_defects.poscar')"
   ]
  },
  {
   "cell_type": "code",
   "execution_count": 8,
   "id": "3a8f4456",
   "metadata": {},
   "outputs": [
    {
     "data": {
      "text/plain": [
       "<Popen: returncode: None args: ['/home/anamendonca/miniconda3/envs/abtem_env...>"
      ]
     },
     "execution_count": 8,
     "metadata": {},
     "output_type": "execute_result"
    },
    {
     "name": "stdout",
     "output_type": "stream",
     "text": [
      "Rendering with povray:\n",
      " | Writing files for image C2880.pov ...\n",
      " | Deleting temporary file  C2880.pov\n",
      " | Deleting temporary file  C2880.ini\n",
      "Rendering with povray:\n",
      " | Writing files for image C2880.pov ...\n",
      " | Deleting temporary file  C2880.pov\n",
      " | Deleting temporary file  C2880.ini\n",
      "Rendering with povray:\n",
      " | Writing files for image C2880_z.pov ...\n",
      " | Deleting temporary file  C2880_z.pov\n",
      " | Deleting temporary file  C2880_z.ini\n"
     ]
    }
   ],
   "source": [
    "view(defects)"
   ]
  },
  {
   "cell_type": "code",
   "execution_count": 13,
   "id": "f9781425",
   "metadata": {},
   "outputs": [],
   "source": [
    "write_xyz(graphene_defects, 'graphene_computem.xyz')"
   ]
  }
 ],
 "metadata": {
  "kernelspec": {
   "display_name": "abtem_env",
   "language": "python",
   "name": "python3"
  },
  "language_info": {
   "codemirror_mode": {
    "name": "ipython",
    "version": 3
   },
   "file_extension": ".py",
   "mimetype": "text/x-python",
   "name": "python",
   "nbconvert_exporter": "python",
   "pygments_lexer": "ipython3",
   "version": "3.12.9"
  }
 },
 "nbformat": 4,
 "nbformat_minor": 5
}
